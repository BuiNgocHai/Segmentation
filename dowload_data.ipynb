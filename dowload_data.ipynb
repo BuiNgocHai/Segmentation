{
 "cells": [
  {
   "cell_type": "code",
   "execution_count": 0,
   "metadata": {
    "colab": {},
    "colab_type": "code",
    "id": "79HBfzsEYkVY"
   },
   "outputs": [],
   "source": [
    "!cd city"
   ]
  },
  {
   "cell_type": "code",
   "execution_count": 7,
   "metadata": {
    "colab": {
     "base_uri": "https://localhost:8080/",
     "height": 290
    },
    "colab_type": "code",
    "executionInfo": {
     "elapsed": 6319,
     "status": "ok",
     "timestamp": 1562562312698,
     "user": {
      "displayName": "Bùi Ngọc Hải FX01708",
      "photoUrl": "",
      "userId": "06480899975350122193"
     },
     "user_tz": -420
    },
    "id": "TwD3KwXuZTEd",
    "outputId": "8fd809cf-bafc-4671-977c-90506c56e22e"
   },
   "outputs": [
    {
     "name": "stdout",
     "output_type": "stream",
     "text": [
      "--2019-07-08 05:05:08--  https://www.cityscapes-dataset.com/login/\n",
      "Resolving www.cityscapes-dataset.com (www.cityscapes-dataset.com)... 139.19.217.8\n",
      "Connecting to www.cityscapes-dataset.com (www.cityscapes-dataset.com)|139.19.217.8|:443... connected.\n",
      "HTTP request sent, awaiting response... 302 Found\n",
      "Location: https://www.cityscapes-dataset.com/downloads/ [following]\n",
      "--2019-07-08 05:05:09--  https://www.cityscapes-dataset.com/downloads/\n",
      "Reusing existing connection to www.cityscapes-dataset.com:443.\n",
      "HTTP request sent, awaiting response... 200 OK\n",
      "Length: unspecified [text/html]\n",
      "Saving to: ‘index.html.15’\n",
      "\n",
      "index.html.15           [  <=>               ]  40.72K   193KB/s    in 0.2s    \n",
      "\n",
      "2019-07-08 05:05:11 (193 KB/s) - ‘index.html.15’ saved [41695]\n",
      "\n"
     ]
    }
   ],
   "source": [
    "!wget --keep-session-cookies --save-cookies=cookies.txt --post-data 'username=\"your_usename\"&password=your_password\"&submit=Login' https://www.cityscapes-dataset.com/login/"
   ]
  },
  {
   "cell_type": "code",
   "execution_count": 8,
   "metadata": {
    "colab": {
     "base_uri": "https://localhost:8080/",
     "height": 217
    },
    "colab_type": "code",
    "executionInfo": {
     "elapsed": 478882,
     "status": "ok",
     "timestamp": 1562562793587,
     "user": {
      "displayName": "Bùi Ngọc Hải FX01708",
      "photoUrl": "",
      "userId": "06480899975350122193"
     },
     "user_tz": -420
    },
    "id": "dOEM4PYgaiFm",
    "outputId": "4d0f5dbe-a7c4-4d50-b88a-d61ea18efc88"
   },
   "outputs": [
    {
     "name": "stdout",
     "output_type": "stream",
     "text": [
      "--2019-07-08 05:05:15--  https://www.cityscapes-dataset.com/file-handling/?packageID=3\n",
      "Resolving www.cityscapes-dataset.com (www.cityscapes-dataset.com)... 139.19.217.8\n",
      "Connecting to www.cityscapes-dataset.com (www.cityscapes-dataset.com)|139.19.217.8|:443... connected.\n",
      "HTTP request sent, awaiting response... 200 OK\n",
      "Length: 11592327197 (11G) [application/octet-stream]\n",
      "Saving to: ‘leftImg8bit_trainvaltest.zip’\n",
      "\n",
      "leftImg8bit_trainva 100%[===================>]  10.80G  26.1MB/s    in 7m 55s  \n",
      "\n",
      "2019-07-08 05:13:11 (23.3 MB/s) - ‘leftImg8bit_trainvaltest.zip’ saved [11592327197/11592327197]\n",
      "\n"
     ]
    }
   ],
   "source": [
    "!wget --load-cookies cookies.txt --content-disposition https://www.cityscapes-dataset.com/file-handling/?packageID=3"
   ]
  },
  {
   "cell_type": "code",
   "execution_count": 5,
   "metadata": {
    "colab": {
     "base_uri": "https://localhost:8080/",
     "height": 199
    },
    "colab_type": "code",
    "executionInfo": {
     "elapsed": 3172,
     "status": "ok",
     "timestamp": 1562571596886,
     "user": {
      "displayName": "Bùi Ngọc Hải FX01708",
      "photoUrl": "",
      "userId": "06480899975350122193"
     },
     "user_tz": -420
    },
    "id": "YpAcITaybXo6",
    "outputId": "6029b552-3e52-47a1-cb25-97f5acf23234"
   },
   "outputs": [
    {
     "name": "stdout",
     "output_type": "stream",
     "text": [
      "camera_trainextra.zip\t\t index.html.12\tindex.html.8\n",
      "camera_trainvaltest.zip\t\t index.html.13\tindex.html.9\n",
      "cookies.txt\t\t\t index.html.14\tleftImg8bit\n",
      "gtBbox_cityPersons_trainval.zip  index.html.15\tleftImg8bit_demoVideo.zip\n",
      "gtCoarse.zip\t\t\t index.html.2\tleftImg8bit_trainvaltest.zip\n",
      "gtFine_trainvaltest.zip\t\t index.html.3\tlicense.txt\n",
      "index.html\t\t\t index.html.4\tREADME\n",
      "index.html.1\t\t\t index.html.5\tvehicle_trainextra.zip\n",
      "index.html.10\t\t\t index.html.6\tvehicle_trainvaltest.zip\n",
      "index.html.11\t\t\t index.html.7\n"
     ]
    }
   ],
   "source": [
    "!ls"
   ]
  },
  {
   "cell_type": "code",
   "execution_count": 6,
   "metadata": {
    "colab": {
     "base_uri": "https://localhost:8080/",
     "height": 126
    },
    "colab_type": "code",
    "executionInfo": {
     "elapsed": 7700,
     "status": "ok",
     "timestamp": 1562571622851,
     "user": {
      "displayName": "Bùi Ngọc Hải FX01708",
      "photoUrl": "",
      "userId": "06480899975350122193"
     },
     "user_tz": -420
    },
    "id": "9l1vvuqhoWkP",
    "outputId": "9ffcb3ff-48a1-41bb-f564-a7da03a7f5e8"
   },
   "outputs": [
    {
     "name": "stdout",
     "output_type": "stream",
     "text": [
      "Archive:  gtFine_trainvaltest.zip\n",
      "error:  zipfile read error\n",
      "error [gtFine_trainvaltest.zip]:  start of central directory not found;\n",
      "  zipfile corrupt.\n",
      "  (please check that you have transferred or created the zipfile in the\n",
      "  appropriate BINARY mode and that you have compiled UnZip properly)\n"
     ]
    }
   ],
   "source": [
    "!unzip gtFine_trainvaltest.zip"
   ]
  },
  {
   "cell_type": "code",
   "execution_count": 4,
   "metadata": {
    "colab": {
     "base_uri": "https://localhost:8080/",
     "height": 108
    },
    "colab_type": "code",
    "executionInfo": {
     "elapsed": 6620,
     "status": "ok",
     "timestamp": 1562571343958,
     "user": {
      "displayName": "Bùi Ngọc Hải FX01708",
      "photoUrl": "",
      "userId": "06480899975350122193"
     },
     "user_tz": -420
    },
    "id": "L5OIbnPP4-hO",
    "outputId": "eb6fd148-445c-47e7-a13c-261a3d3b6cd7"
   },
   "outputs": [
    {
     "name": "stdout",
     "output_type": "stream",
     "text": [
      "Archive:  leftImg8bit_trainvaltest.zip\n",
      "fatal error: read failure while seeking for End-of-centdir-64 signature.\n",
      "  This zipfile is corrupt.\n",
      "unzip:  cannot find zipfile directory in one of leftImg8bit_trainvaltest.zip or\n",
      "        leftImg8bit_trainvaltest.zip.zip, and cannot find leftImg8bit_trainvaltest.zip.ZIP, period.\n"
     ]
    }
   ],
   "source": [
    "!unzip leftImg8bit_trainvaltest.zip"
   ]
  },
  {
   "cell_type": "code",
   "execution_count": 18,
   "metadata": {
    "colab": {
     "base_uri": "https://localhost:8080/",
     "height": 72
    },
    "colab_type": "code",
    "executionInfo": {
     "elapsed": 2595,
     "status": "ok",
     "timestamp": 1562537297849,
     "user": {
      "displayName": "Bùi Ngọc Hải FX01708",
      "photoUrl": "",
      "userId": "06480899975350122193"
     },
     "user_tz": -420
    },
    "id": "SfuV2_dRwil-",
    "outputId": "a3a73014-adff-424c-bfd9-0c0d5f33fe8c"
   },
   "outputs": [
    {
     "name": "stdout",
     "output_type": "stream",
     "text": [
      "aachen\tcologne     erfurt   jena\t      strasbourg  ulm\n",
      "bochum\tdarmstadt   hamburg  krefeld\t      stuttgart   weimar\n",
      "bremen\tdusseldorf  hanover  monchengladbach  tubingen\t  zurich\n"
     ]
    }
   ],
   "source": [
    "!ls gtFine/train/"
   ]
  },
  {
   "cell_type": "code",
   "execution_count": 10,
   "metadata": {
    "colab": {
     "base_uri": "https://localhost:8080/",
     "height": 35
    },
    "colab_type": "code",
    "executionInfo": {
     "elapsed": 2895,
     "status": "ok",
     "timestamp": 1562566578840,
     "user": {
      "displayName": "Bùi Ngọc Hải FX01708",
      "photoUrl": "",
      "userId": "06480899975350122193"
     },
     "user_tz": -420
    },
    "id": "lO4Rfg-mZunR",
    "outputId": "68598ad8-1ef4-448a-8a34-ababe0c4dc46"
   },
   "outputs": [
    {
     "name": "stdout",
     "output_type": "stream",
     "text": [
      "frankfurt  lindau  munster\n"
     ]
    }
   ],
   "source": [
    "!ls leftImg8bit/val/"
   ]
  },
  {
   "cell_type": "code",
   "execution_count": 0,
   "metadata": {
    "colab": {},
    "colab_type": "code",
    "id": "1-DJ1DFKT6jJ"
   },
   "outputs": [],
   "source": [
    "!ls gtFine/val/"
   ]
  },
  {
   "cell_type": "code",
   "execution_count": 0,
   "metadata": {
    "colab": {},
    "colab_type": "code",
    "id": "4CeYcjfgoZth"
   },
   "outputs": [],
   "source": [
    "rm -rf leftImg8bit_trainvaltest.zip"
   ]
  }
 ],
 "metadata": {
  "accelerator": "GPU",
  "colab": {
   "collapsed_sections": [],
   "name": "dowload_data",
   "provenance": [],
   "version": "0.3.2"
  },
  "kernelspec": {
   "display_name": "Python 3",
   "language": "python",
   "name": "python3"
  },
  "language_info": {
   "codemirror_mode": {
    "name": "ipython",
    "version": 3
   },
   "file_extension": ".py",
   "mimetype": "text/x-python",
   "name": "python",
   "nbconvert_exporter": "python",
   "pygments_lexer": "ipython3",
   "version": "3.6.7"
  }
 },
 "nbformat": 4,
 "nbformat_minor": 1
}
